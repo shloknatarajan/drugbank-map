{
 "cells": [
  {
   "cell_type": "code",
   "execution_count": 1,
   "metadata": {},
   "outputs": [],
   "source": [
    "import pickle"
   ]
  },
  {
   "cell_type": "code",
   "execution_count": null,
   "metadata": {},
   "outputs": [],
   "source": [
    "drug_name_to_id = None\n",
    "drugbank_id_to_name = None\n",
    "with open('saved_outputs/drug_name_to_id.pkl', 'rb') as f:\n",
    "    drugbank_name_to_id = pickle.load(f)\n",
    "with open('saved_outputs/drugbank_id_to_name.pkl', 'rb') as f:\n",
    "    drugbank_id_to_name = pickle.load(f)\n"
   ]
  }
 ],
 "metadata": {
  "kernelspec": {
   "display_name": "default",
   "language": "python",
   "name": "python3"
  },
  "language_info": {
   "codemirror_mode": {
    "name": "ipython",
    "version": 3
   },
   "file_extension": ".py",
   "mimetype": "text/x-python",
   "name": "python",
   "nbconvert_exporter": "python",
   "pygments_lexer": "ipython3",
   "version": "3.13.3"
  }
 },
 "nbformat": 4,
 "nbformat_minor": 2
}
