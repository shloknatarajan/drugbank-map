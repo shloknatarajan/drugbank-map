{
 "cells": [
  {
   "cell_type": "code",
   "execution_count": 1,
   "metadata": {},
   "outputs": [],
   "source": [
    "import pickle"
   ]
  },
  {
   "cell_type": "code",
   "execution_count": 2,
   "metadata": {},
   "outputs": [],
   "source": [
    "drug_name_to_id = None\n",
    "drugbank_id_to_name = None\n",
    "with open('saved_outputs/drugbank_name_to_id.pkl', 'rb') as f:\n",
    "    drugbank_name_to_id = pickle.load(f)\n",
    "with open('saved_outputs/drugbank_id_to_name.pkl', 'rb') as f:\n",
    "    drugbank_id_to_name = pickle.load(f)\n"
   ]
  },
  {
   "cell_type": "code",
   "execution_count": 3,
   "metadata": {},
   "outputs": [
    {
     "name": "stdout",
     "output_type": "stream",
     "text": [
      "len(drugbank_name_to_id): 17430\n",
      "len(drugbank_id_to_name): 17430\n"
     ]
    }
   ],
   "source": [
    "print(f\"len(drugbank_name_to_id): {len(drugbank_name_to_id)}\")\n",
    "print(f\"len(drugbank_id_to_name): {len(drugbank_id_to_name)}\")"
   ]
  },
  {
   "cell_type": "code",
   "execution_count": 5,
   "metadata": {},
   "outputs": [
    {
     "data": {
      "text/plain": [
       "[('cefapirin', 'DB01139', 75),\n",
       " ('nitroaspirin', 'DB12445', 74),\n",
       " ('asparagine', 'DB00174', 71),\n",
       " ('spiramycin', 'DB06145', 71),\n",
       " ('asoprisnil', 'DB06680', 71)]"
      ]
     },
     "execution_count": 5,
     "metadata": {},
     "output_type": "execute_result"
    }
   ],
   "source": [
    "from fuzzy_search import fuzzy_search_drug\n",
    "\n",
    "fuzzy_search_drug('aspirin', drugbank_name_to_id)\n"
   ]
  },
  {
   "cell_type": "code",
   "execution_count": 15,
   "metadata": {},
   "outputs": [
    {
     "data": {
      "text/plain": [
       "[('acetylsalicylic acid', 'DB00945', 100),\n",
       " ('acetoacetic acid', 'DB01762', 72),\n",
       " ('acetic acid', 'DB03166', 71)]"
      ]
     },
     "execution_count": 15,
     "metadata": {},
     "output_type": "execute_result"
    }
   ],
   "source": [
    "fuzzy_search_drug('acetylsalicylic acid', drugbank_name_to_id)"
   ]
  },
  {
   "cell_type": "code",
   "execution_count": null,
   "metadata": {},
   "outputs": [],
   "source": []
  }
 ],
 "metadata": {
  "kernelspec": {
   "display_name": "default",
   "language": "python",
   "name": "python3"
  },
  "language_info": {
   "codemirror_mode": {
    "name": "ipython",
    "version": 3
   },
   "file_extension": ".py",
   "mimetype": "text/x-python",
   "name": "python",
   "nbconvert_exporter": "python",
   "pygments_lexer": "ipython3",
   "version": "3.13.3"
  }
 },
 "nbformat": 4,
 "nbformat_minor": 2
}
