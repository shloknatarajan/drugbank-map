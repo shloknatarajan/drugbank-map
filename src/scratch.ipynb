{
 "cells": [
  {
   "cell_type": "code",
   "execution_count": 4,
   "metadata": {},
   "outputs": [],
   "source": [
    "from lxml import etree"
   ]
  },
  {
   "cell_type": "code",
   "execution_count": 7,
   "metadata": {},
   "outputs": [],
   "source": [
    "def build_drug_name_to_id_map(xml_path):\n",
    "    ns = {'db': 'http://www.drugbank.ca'}\n",
    "    name_to_id = {}\n",
    "\n",
    "    context = etree.iterparse(xml_path, events=('end',))\n",
    "    for event, elem in context:\n",
    "        if elem.tag == '{http://www.drugbank.ca}drug':\n",
    "            drugbank_id = elem.find('db:drugbank-id', ns)\n",
    "            if drugbank_id is not None:\n",
    "                name = elem.find('db:name', ns)\n",
    "                if name is not None:\n",
    "                    name_to_id[name.text.lower()] = drugbank_id.text\n",
    "            elem.clear()\n",
    "    return name_to_id"
   ]
  },
  {
   "cell_type": "code",
   "execution_count": 9,
   "metadata": {},
   "outputs": [],
   "source": [
    "xml_path = \"load_data/data/drugbank.xml\"\n",
    "query_name = \"aspirin\"\n",
    "\n",
    "name_to_id = build_drug_name_to_id_map(xml_path)"
   ]
  },
  {
   "cell_type": "code",
   "execution_count": 12,
   "metadata": {},
   "outputs": [],
   "source": [
    "# Save to a pickle file\n",
    "import pickle\n",
    "with open(\"drug_name_to_id.pkl\", \"wb\") as f:\n",
    "    pickle.dump(name_to_id, f)\n",
    "    "
   ]
  },
  {
   "cell_type": "code",
   "execution_count": null,
   "metadata": {},
   "outputs": [],
   "source": []
  }
 ],
 "metadata": {
  "kernelspec": {
   "display_name": "default",
   "language": "python",
   "name": "python3"
  },
  "language_info": {
   "codemirror_mode": {
    "name": "ipython",
    "version": 3
   },
   "file_extension": ".py",
   "mimetype": "text/x-python",
   "name": "python",
   "nbconvert_exporter": "python",
   "pygments_lexer": "ipython3",
   "version": "3.13.3"
  }
 },
 "nbformat": 4,
 "nbformat_minor": 2
}
